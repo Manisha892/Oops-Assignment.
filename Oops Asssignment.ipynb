{
 "cells": [
  {
   "cell_type": "markdown",
   "id": "14bba65d-f31c-49c9-977b-1bbb2bb37ccc",
   "metadata": {},
   "source": [
    "Question (1) What are the five key concepts of Object-Oriented Programming (OOP)?"
   ]
  },
  {
   "cell_type": "markdown",
   "id": "649b6ebd-ece1-451c-a639-c05f536f9684",
   "metadata": {},
   "source": [
    "Answer_Object Oriented Programming (OOPs) is a programming paradigm in Python that uses classes and objects to create reusable code and model real-world concepts. OOP is a popular choice for many software projects because it makes code more maintainable, scalable, and easier to manage. \r",
    "Object-Oriented Programming (OOP) is a programming paradigm in Python that uses classes and objects to create reusable code and model real-world concepts. OOP is a popular choice for many software projects because it makes code more maintainable, scalable, and easier to manage. \n",
    "\r",
    "### Five key concepts of OOP in Python:\n",
    "##### Class  \n",
    "     >> Templates for creating objects, which define the properties and behavior of the objects they create.\n",
    "     \r",
    "##### bjects\r",
    "     >> \n",
    "Instances of a class, which are fields of data with specificattributes and behavior.\n",
    "      ##### Enc\r",
    "apsulation     >> \r\n",
    "Separates the internal state of an object from its public interface, which promotes code modularity, maintainabilitand data protection.              >> This is the concept of bundling data and methods that operate on the data within a single unit, or class. In India, many popular tech   companies use encapsulation to keep their proprietary data secure while interacting with APIs(Application programming interface) or other puic system.\n",
    "     s p##### Inheritanc:      >>  \n",
    "Concepts that make it easier to write flexible, scalable ce.l.           a\n",
    "      >> This allows one class to inherit properties and methods from another. Many Indian startups, such as those in fintech or healthtech, use inheritance to build scalable solutions, minimizing redundancy in code.\n",
    "\n",
    "##### Polymorphism\n",
    "      >> This allows objects to be treated as instances of their parent class while still maintaining their own methods. For example, in e-commerce    apps in India, polymorphism is used to manage various types of payments through a unified interface.bsimulation software."
   ]
  },
  {
   "cell_type": "markdown",
   "id": "4dfdfbc2-5351-4961-a935-a4fab44137b8",
   "metadata": {},
   "source": [
    "Question (2)  Write a Python class for a 'Car' with attributes for 'make', 'model', and 'year'. Include a method to display \r\n",
    "the car's information."
   ]
  },
  {
   "cell_type": "code",
   "execution_count": 29,
   "id": "670cef5a-6d2e-48aa-a446-7c2da3178a99",
   "metadata": {},
   "outputs": [],
   "source": [
    "class Car:\n",
    "    def __init__(self, make,model,year):\n",
    "        self.make = make\n",
    "        self.model = model\n",
    "        self.year = year\n",
    "        \n",
    "    def display_car_info(self):\n",
    "        print(\"make=\",self.make,', model=', self.model,', year=',self.year)                     # accessing the car information\n"
   ]
  },
  {
   "cell_type": "code",
   "execution_count": 31,
   "id": "c1c17930-59df-4829-b728-01f8376f0cdf",
   "metadata": {},
   "outputs": [],
   "source": [
    "abc = Car(\"Honda\",\"Accord Hybrid\",2024)"
   ]
  },
  {
   "cell_type": "code",
   "execution_count": 33,
   "id": "41198815-d06c-407d-9d7c-11938137f1d1",
   "metadata": {},
   "outputs": [
    {
     "name": "stdout",
     "output_type": "stream",
     "text": [
      "make= Honda , model= Accord Hybrid , year= 2024\n"
     ]
    }
   ],
   "source": [
    "abc.display_car_info()"
   ]
  },
  {
   "cell_type": "markdown",
   "id": "5afe28bc-4fb3-4269-a965-7e6bec2eaa46",
   "metadata": {},
   "source": [
    "Question (3) Explain the difference between instance methods and class methods. Provide an example of each."
   ]
  },
  {
   "cell_type": "markdown",
   "id": "2dd89ffb-6920-41f5-b3bd-25f3a8064306",
   "metadata": {},
   "source": [
    "Answer_### Difference between instance methods and class methods\n",
    "\n",
    "##### Instance methods\r",
    "      >> These methods are associated with a specific object and can access and modify both instance and class attributes.\n",
    "      >>  Instance methods require an object to be present in memory before they can be called.\n",
    "      \n",
    "##### \n",
    "Class method    \n",
    "       >>\r\n",
    "These methods are associated with the class itself and don't require a specific instae.nc\n",
    "      >. They can be accessed directly from the class without the need to create an instance of the class."
   ]
  },
  {
   "cell_type": "code",
   "execution_count": 88,
   "id": "4bcba5e7-0743-48ab-a992-5b57f0f3dbcb",
   "metadata": {},
   "outputs": [],
   "source": [
    "class Book:\n",
    "    def __init__(self):\n",
    "        self.name_of_book = \"Polity\"\n",
    "        self.book_author = \"M.laxmikant\"\n",
    "        self.title_name = \"Indian polity\"\n",
    "        \n",
    "    def extract_details_name_title(self):\n",
    "        print(self.name_of_book, self.title_name)\n",
    "        \n",
    "    def extract_details_name_author(self):\n",
    "        print(self.name_of_book, self.title_name,self.book_author)\n",
    "    "
   ]
  },
  {
   "cell_type": "code",
   "execution_count": 90,
   "id": "03c53fed-6f53-4e27-b668-ed0db64e2e6b",
   "metadata": {},
   "outputs": [
    {
     "name": "stdout",
     "output_type": "stream",
     "text": [
      "Polity Indian polity M.laxmikant\n"
     ]
    }
   ],
   "source": [
    "student = Book()\n",
    "student.extract_details_name_author()"
   ]
  },
  {
   "cell_type": "code",
   "execution_count": 73,
   "id": "3f9b91ff-5172-4da4-8a7b-a4a731ca8534",
   "metadata": {},
   "outputs": [],
   "source": [
    "Example of Class Method :          #class method can modify class state applicable to all the instances of the class.\n",
    "\n",
    "class Student:\n",
    "    total_students = 0                                              #class variable\n",
    "    def __init__(self, name):                                       #instance method\n",
    "        self.name = name                                            #instance variable\n",
    "        Student.total_students = Student.total_students+1           #total_student is the class variable associated with all the instances\n",
    "        \n",
    "    @classmethod\n",
    "    def get_total_students(cls):\n",
    "        return cls.total_students"
   ]
  },
  {
   "cell_type": "code",
   "execution_count": 75,
   "id": "fd88b110-31a1-4a0c-ac5c-458165734833",
   "metadata": {},
   "outputs": [
    {
     "data": {
      "text/plain": [
       "0"
      ]
     },
     "execution_count": 75,
     "metadata": {},
     "output_type": "execute_result"
    }
   ],
   "source": [
    "Student.total_students"
   ]
  },
  {
   "cell_type": "code",
   "execution_count": 77,
   "id": "76c9ad8f-8987-473d-b7f1-29850c7de800",
   "metadata": {},
   "outputs": [],
   "source": [
    "student1=Student(\"Somya\")"
   ]
  },
  {
   "cell_type": "code",
   "execution_count": 61,
   "id": "b3ac2c09-b05b-4259-9e80-84c378ccab5e",
   "metadata": {},
   "outputs": [
    {
     "data": {
      "text/plain": [
       "'Somya'"
      ]
     },
     "execution_count": 61,
     "metadata": {},
     "output_type": "execute_result"
    }
   ],
   "source": [
    "student1.name"
   ]
  },
  {
   "cell_type": "code",
   "execution_count": 79,
   "id": "a81a0001-998a-427f-82ba-2c1989983078",
   "metadata": {},
   "outputs": [],
   "source": [
    "student2=Student(\"sumit\")"
   ]
  },
  {
   "cell_type": "code",
   "execution_count": 67,
   "id": "1a7feb8b-59e3-45f3-b6d7-476e6cb2e5b6",
   "metadata": {},
   "outputs": [
    {
     "data": {
      "text/plain": [
       "'sumit'"
      ]
     },
     "execution_count": 67,
     "metadata": {},
     "output_type": "execute_result"
    }
   ],
   "source": [
    "student2.name"
   ]
  },
  {
   "cell_type": "code",
   "execution_count": 81,
   "id": "75bdaa12-8e33-4bf6-9047-7aeaa79675c1",
   "metadata": {},
   "outputs": [
    {
     "data": {
      "text/plain": [
       "2"
      ]
     },
     "execution_count": 81,
     "metadata": {},
     "output_type": "execute_result"
    }
   ],
   "source": [
    "Student.total_students"
   ]
  },
  {
   "cell_type": "markdown",
   "id": "ed36cf63-0cad-45f8-92b8-c8f4d03150c1",
   "metadata": {},
   "source": [
    "Question(4)  How does Python implement method overloading? Give an example."
   ]
  },
  {
   "cell_type": "markdown",
   "id": "4ec1c1b2-cc4c-46fd-a3db-ab3176d492b2",
   "metadata": {},
   "source": [
    "Answer_Python doesnt support true method overloading,only allows one method with a given name in a class; if you redefine a method, the previous one is overwritten."
   ]
  },
  {
   "cell_type": "code",
   "execution_count": 93,
   "id": "d66513f8-8be6-4539-b843-0bd38072ea97",
   "metadata": {},
   "outputs": [],
   "source": [
    "#####Example :\n",
    "\n",
    "class Student:\n",
    "    def student(self):\n",
    "        print(\"Wecome to pwskills class\")\n",
    "    def student(self, name = \"\"):\n",
    "        print(\"Wecome to pwskills class\", name)\n",
    "    def student(self, name = \"\", course = \"\"):\n",
    "        print(\"Wecome to pwskills class\", name, course)"
   ]
  },
  {
   "cell_type": "code",
   "execution_count": 97,
   "id": "22777304-8007-47a8-802b-d4f1b98b83a3",
   "metadata": {},
   "outputs": [],
   "source": [
    "std = Student()"
   ]
  },
  {
   "cell_type": "code",
   "execution_count": 99,
   "id": "7b86fda8-45ce-4f8f-8be9-b7e261d68c0c",
   "metadata": {},
   "outputs": [
    {
     "name": "stdout",
     "output_type": "stream",
     "text": [
      "Wecome to pwskills class  \n"
     ]
    }
   ],
   "source": [
    "std.student()"
   ]
  },
  {
   "cell_type": "code",
   "execution_count": 103,
   "id": "8633f40f-7cec-4d84-a63d-905c1004113f",
   "metadata": {},
   "outputs": [
    {
     "name": "stdout",
     "output_type": "stream",
     "text": [
      "Wecome to pwskills class Sameer \n"
     ]
    }
   ],
   "source": [
    "std.student(\"Sameer\")"
   ]
  },
  {
   "cell_type": "code",
   "execution_count": 105,
   "id": "74386452-eb41-4a83-b777-d5116f6c2501",
   "metadata": {},
   "outputs": [
    {
     "name": "stdout",
     "output_type": "stream",
     "text": [
      "Wecome to pwskills class Sameer Master in science\n"
     ]
    }
   ],
   "source": [
    "std.student(\"Sameer\",\"Master in science\")"
   ]
  },
  {
   "cell_type": "code",
   "execution_count": 113,
   "id": "af9f107c-e13e-4a65-b5ae-24c5007176fe",
   "metadata": {},
   "outputs": [],
   "source": [
    "#method overloading                    >> student method is taking different forms, the last methods overloads the previous ones in the same class.\n",
    "class Student:\n",
    "    def student(self, name = \"\", course = \"\"):\n",
    "        print(\"Wecome to pwskills class\", name, course)"
   ]
  },
  {
   "cell_type": "markdown",
   "id": "85e81633-55c9-4ded-be00-21c101352bf0",
   "metadata": {},
   "source": [
    " >> method overloading happens in the same class"
   ]
  },
  {
   "cell_type": "code",
   "execution_count": 115,
   "id": "8db26bb2-0aff-4a9d-815b-4a59682d3078",
   "metadata": {},
   "outputs": [
    {
     "name": "stdout",
     "output_type": "stream",
     "text": [
      "Wecome to pwskills class Sameer Master in science\n"
     ]
    }
   ],
   "source": [
    "std.student(\"Sameer\",\"Master in science\")"
   ]
  },
  {
   "cell_type": "markdown",
   "id": "8bd8083b-bac9-4b8c-a290-29cd8ba93d51",
   "metadata": {},
   "source": [
    "Question (5) What are the three types of access modifiers in Python? How are they denoted?"
   ]
  },
  {
   "cell_type": "markdown",
   "id": "ed407dc2-1488-482b-8ebc-d5eaa34e7b35",
   "metadata": {},
   "source": [
    "Answer_Python supports three types of access modifiers which are public,private and protected. These access modifiers provide restrictions on the access of member variables and methods of the class from any object outside the class.\n",
    "\r",
    "am\r\n",
    "Protected\r\n",
    "Allows members to be accessed by members within a class or by its subclas class"
   ]
  },
  {
   "cell_type": "code",
   "execution_count": 119,
   "id": "17f4dbd4-a3f9-4ff5-bd13-52732b440d4c",
   "metadata": {},
   "outputs": [],
   "source": [
    "### Public : The least restrictive modifier, allowing access to members from anywhere in the program.\n",
    "### Accessible from anywhere from outside/inside of class.\n",
    "class Student:\n",
    "    def __init__(self, name, degree):\n",
    "        self.name = name\n",
    "        self.degree = degree"
   ]
  },
  {
   "cell_type": "code",
   "execution_count": 139,
   "id": "26905b48-429d-46cc-ac54-f5554936e572",
   "metadata": {},
   "outputs": [],
   "source": [
    "std1 = Student(\"Sanat\", \"Phd\")"
   ]
  },
  {
   "cell_type": "code",
   "execution_count": 141,
   "id": "125f0ba4-5d60-47db-80a1-daa8b0ff30dc",
   "metadata": {},
   "outputs": [
    {
     "data": {
      "text/plain": [
       "'Sanat'"
      ]
     },
     "execution_count": 141,
     "metadata": {},
     "output_type": "execute_result"
    }
   ],
   "source": [
    "std1.name"
   ]
  },
  {
   "cell_type": "code",
   "execution_count": 143,
   "id": "c7e89f3e-c06a-4a91-b8e4-7aa0fddf1b66",
   "metadata": {},
   "outputs": [
    {
     "data": {
      "text/plain": [
       "'Phd'"
      ]
     },
     "execution_count": 143,
     "metadata": {},
     "output_type": "execute_result"
    }
   ],
   "source": [
    "std1.degree"
   ]
  },
  {
   "cell_type": "code",
   "execution_count": 145,
   "id": "bd3e8a02-b32e-41ce-bdb1-4b97d9fef6e8",
   "metadata": {},
   "outputs": [],
   "source": [
    "std1.degree = \"Philosophy\""
   ]
  },
  {
   "cell_type": "code",
   "execution_count": 147,
   "id": "10bc94a9-2f88-4196-b9e9-a6e935d06916",
   "metadata": {},
   "outputs": [
    {
     "data": {
      "text/plain": [
       "'Philosophy'"
      ]
     },
     "execution_count": 147,
     "metadata": {},
     "output_type": "execute_result"
    }
   ],
   "source": [
    "std1.degree"
   ]
  },
  {
   "cell_type": "code",
   "execution_count": null,
   "id": "67e8d713-1ccb-46ae-9e67-cb9d077373a7",
   "metadata": {},
   "outputs": [],
   "source": [
    "###Private : The most restrictive modifier, limiting access to members within the same class.\n",
    "###The data and method is only accessible within its class, use __ to make private.\n",
    "class Student:\n",
    "    def __init__(self, name, degree):\n",
    "        self.name = name\n",
    "        self.degree = degree\n",
    "        \n",
    "    def show(self):\n",
    "        #accessing the  public data member\n",
    "        print(\"name\", self.name, 'degree', self.degree)"
   ]
  },
  {
   "cell_type": "code",
   "execution_count": null,
   "id": "4c1b7ba3-35ad-4115-80d7-89aabd266a79",
   "metadata": {},
   "outputs": [],
   "source": [
    "class Student:\n",
    "    def __init__(self, name, degree):\n",
    "        self.name = name\n",
    "        self.__degree = degree #private data\n",
    "        \n",
    "    def show(self):\n",
    "        #accessing the private data member\n",
    "        print(\"name\", self.name, 'degree', self.__degree)"
   ]
  },
  {
   "cell_type": "code",
   "execution_count": 185,
   "id": "fdceb02a-489d-4cc7-98c2-49a49fef8217",
   "metadata": {},
   "outputs": [],
   "source": [
    "class Student:\n",
    "    def __init__(self, name, degree):\n",
    "        self.name = name\n",
    "        self.__degree = degree                                   # private data \n",
    "        \n",
    "    def show(self):                                              #accessing the private data member\n",
    "        print(\"name\", self.name, 'degree', self.__degree)"
   ]
  },
  {
   "cell_type": "code",
   "execution_count": 187,
   "id": "532a524a-ec0d-4cce-b013-b21df9b487ba",
   "metadata": {},
   "outputs": [],
   "source": [
    "std1 = Student(\"Sanat\", \"Phd\")"
   ]
  },
  {
   "cell_type": "code",
   "execution_count": 189,
   "id": "365e00c1-5ea8-4e11-9f1f-e80c38b7dc23",
   "metadata": {},
   "outputs": [
    {
     "data": {
      "text/plain": [
       "'Sanat'"
      ]
     },
     "execution_count": 189,
     "metadata": {},
     "output_type": "execute_result"
    }
   ],
   "source": [
    "std1.name"
   ]
  },
  {
   "cell_type": "code",
   "execution_count": 191,
   "id": "a79bad15-f2f8-4b7d-bbd0-df81200ea196",
   "metadata": {},
   "outputs": [
    {
     "name": "stdout",
     "output_type": "stream",
     "text": [
      "name Sanat degree Phd\n"
     ]
    }
   ],
   "source": [
    "std1.show()"
   ]
  },
  {
   "cell_type": "code",
   "execution_count": 161,
   "id": "066307f8-b687-46df-9192-0306707ef6b9",
   "metadata": {},
   "outputs": [
    {
     "ename": "AttributeError",
     "evalue": "'Student' object has no attribute '__degree'",
     "output_type": "error",
     "traceback": [
      "\u001b[1;31m---------------------------------------------------------------------------\u001b[0m",
      "\u001b[1;31mAttributeError\u001b[0m                            Traceback (most recent call last)",
      "Cell \u001b[1;32mIn[161], line 1\u001b[0m\n\u001b[1;32m----> 1\u001b[0m std1\u001b[38;5;241m.\u001b[39m__degree\n",
      "\u001b[1;31mAttributeError\u001b[0m: 'Student' object has no attribute '__degree'"
     ]
    }
   ],
   "source": [
    "std1.degree                            #it will throw an error as degree is now private data"
   ]
  },
  {
   "cell_type": "code",
   "execution_count": 163,
   "id": "4ac412c7-7eef-46c0-9c15-70244de78341",
   "metadata": {},
   "outputs": [
    {
     "ename": "AttributeError",
     "evalue": "'Student' object has no attribute '__degree'",
     "output_type": "error",
     "traceback": [
      "\u001b[1;31m---------------------------------------------------------------------------\u001b[0m",
      "\u001b[1;31mAttributeError\u001b[0m                            Traceback (most recent call last)",
      "Cell \u001b[1;32mIn[163], line 1\u001b[0m\n\u001b[1;32m----> 1\u001b[0m std1\u001b[38;5;241m.\u001b[39m__degree\n",
      "\u001b[1;31mAttributeError\u001b[0m: 'Student' object has no attribute '__degree'"
     ]
    }
   ],
   "source": [
    "std1.__degree                           #it will throw an error as degree is now private data"
   ]
  },
  {
   "cell_type": "code",
   "execution_count": 193,
   "id": "ce5ecb60-2ab4-4e05-899f-c70fd73e1fa0",
   "metadata": {},
   "outputs": [
    {
     "data": {
      "text/plain": [
       "'Phd'"
      ]
     },
     "execution_count": 193,
     "metadata": {},
     "output_type": "execute_result"
    }
   ],
   "source": [
    "std1._Student__degree                    #say you want to access the private variable using class name"
   ]
  },
  {
   "cell_type": "code",
   "execution_count": 205,
   "id": "cd8d46c2-ecc5-4681-9af3-9b06f2b1126e",
   "metadata": {},
   "outputs": [],
   "source": [
    "###Protected : Allows members to be accessed by members within a class or by its subclasses.\n",
    "###within the class and its subclass, protected member can be access, (_)\n",
    "class College:\n",
    "    def __init__(self):\n",
    "        self._college_name = \"chhatrapati Shivaji institute of Technology\"\n",
    "class Student(College):\n",
    "    def __init__(self, name):\n",
    "        self.name = name\n",
    "        College.__init__(self)                                         #accesing variable of base class>>classname__init__(self)\n",
    "        \n",
    "    def show(self):\n",
    "        print(\"name\", self.name, \"college\", self._college_name)        #directly call the base class variable using \"_\""
   ]
  },
  {
   "cell_type": "code",
   "execution_count": 207,
   "id": "6ecb3715-4079-4f90-a7e4-777379d45ef1",
   "metadata": {},
   "outputs": [],
   "source": [
    "stud = Student(\"Manisha\")"
   ]
  },
  {
   "cell_type": "code",
   "execution_count": 209,
   "id": "e42553f8-97b4-4c43-975f-a11d8824b63f",
   "metadata": {},
   "outputs": [
    {
     "data": {
      "text/plain": [
       "'Manisha'"
      ]
     },
     "execution_count": 209,
     "metadata": {},
     "output_type": "execute_result"
    }
   ],
   "source": [
    "stud.name"
   ]
  },
  {
   "cell_type": "code",
   "execution_count": 211,
   "id": "edf77304-48c5-4632-9fdf-fccf93308445",
   "metadata": {},
   "outputs": [
    {
     "name": "stdout",
     "output_type": "stream",
     "text": [
      "name Manisha college chhatrapati Shivaji institute of Technology\n"
     ]
    }
   ],
   "source": [
    "stud.show()"
   ]
  },
  {
   "cell_type": "code",
   "execution_count": 213,
   "id": "71e58e10-cdd5-420f-a2e6-b7b01757ad05",
   "metadata": {},
   "outputs": [
    {
     "data": {
      "text/plain": [
       "'chhatrapati Shivaji institute of Technology'"
      ]
     },
     "execution_count": 213,
     "metadata": {},
     "output_type": "execute_result"
    }
   ],
   "source": [
    "coll = College()\n",
    "coll._college_name                                         #accessing the protected variable"
   ]
  },
  {
   "cell_type": "markdown",
   "id": "40edce2d-4086-40bf-a8d8-c1c92bc98a69",
   "metadata": {},
   "source": [
    "Question (6) Describe the five types of inheritance in Python. Provide a simple example of multiple inheritance."
   ]
  },
  {
   "cell_type": "markdown",
   "id": "750391df-41e7-4bd0-b13d-e4070f902c04",
   "metadata": {},
   "source": [
    "Answer_ Inheritance is a mechanism that allows a class to inherit the properties and methods of another class. The class that is inherited from is called the parent class or base class, and the class that inherits is called the child class or derived class.\n",
    "\n",
    "###### Five types of inheritance in Python\r",
    ">> Single Inheritanc : In this type, a derived class inherits from only one base class.\r",
    ">> \n",
    "Multiple Inheritan : In this inheritance, the derived class inherits from multiple base classes.>> \r\n",
    "Multilevel Inherita : In this, a derived class inherits another derived claes.e>> .\r\n",
    "Hierarchical Inherit : A type of inheritance where multiple classes inherit from a single base cles.c>> e.\r\n",
    "Hybrid Inheri : A combination of multiple and hierarchical inheritance that allows a class to have two or more parent classs.ance.\r\n"
   ]
  },
  {
   "cell_type": "code",
   "execution_count": 218,
   "id": "afb25709-d0d8-4afe-bb7b-6b6777a49c70",
   "metadata": {},
   "outputs": [],
   "source": [
    "#Example of multiple inheritance\n",
    "###multiple inheritance >> one child class may inherit the propety of mutiple parent class.\n",
    "\n",
    "class ParentClass1:\n",
    "    def method1(self):\n",
    "        print(\"method 1 of parent class 1\")\n",
    "class ParentClass2:\n",
    "    def method2(self):\n",
    "        print(\"method2 of parent class 2\")"
   ]
  },
  {
   "cell_type": "code",
   "execution_count": 220,
   "id": "cded43ba-fe5a-4335-ab50-2b648a8d3408",
   "metadata": {},
   "outputs": [],
   "source": [
    "class ChildClass(ParentClass1, ParentClass2):\n",
    "    def method(self):\n",
    "        print(\"method of child class\")"
   ]
  },
  {
   "cell_type": "code",
   "execution_count": 222,
   "id": "762ff0b2-c81e-495d-a9b3-fc57388f2b69",
   "metadata": {},
   "outputs": [
    {
     "name": "stdout",
     "output_type": "stream",
     "text": [
      "method of child class\n"
     ]
    }
   ],
   "source": [
    "c1 = ChildClass()\n",
    "c1.method()"
   ]
  },
  {
   "cell_type": "code",
   "execution_count": 224,
   "id": "f0db8768-74cb-4c17-9eed-ea21b47cc1a3",
   "metadata": {},
   "outputs": [
    {
     "name": "stdout",
     "output_type": "stream",
     "text": [
      "method 1 of parent class 1\n"
     ]
    }
   ],
   "source": [
    "c1.method1()"
   ]
  },
  {
   "cell_type": "code",
   "execution_count": 226,
   "id": "e34e2d50-7a56-49d4-a057-740d75a65aec",
   "metadata": {},
   "outputs": [
    {
     "name": "stdout",
     "output_type": "stream",
     "text": [
      "method2 of parent class 2\n"
     ]
    }
   ],
   "source": [
    "c1.method2()"
   ]
  },
  {
   "cell_type": "markdown",
   "id": "5ace7b02-5bf6-43c4-8b56-e3b987b69108",
   "metadata": {},
   "source": [
    "Question (7) What is the Method Resolution Order (MRO) in Python? How can you retrieve it programmatically?"
   ]
  },
  {
   "cell_type": "markdown",
   "id": "2ca91ec9-e3c8-45c6-a2bd-ac2f29a6a911",
   "metadata": {},
   "source": [
    "Answer_MRO determines the order in which base classes are searched when executing a method. It is determined using the C3 linearization algorithm, also known as C3 superclass linearization. You can view the MRO of a class using the __mro__ attribute or the mro() method.\n",
    "\n",
    "##### Python follows the C3 Linearization algorithm (also known as C3 superclass linearization) to define the MRO. \n",
    "###### This ensures that:\n",
    "\n",
    ">> A child class is checked first.\n",
    ">> Classes are checked left to right in the inheritance list.\n",
    ">> Each parent is checked only once to avoid redundancy.\n",
    " \n",
    "###### MRO in Multiple Inheritance : When multiple inheritance is involved, MRO helps resolve potential conflicts by specifying a clear order of inheritance. This ensures that even in a complex hierarchy, Python can determine which method or attribute to use.\n",
    "\n",
    "##### Retrieving MRO Programmatically\n",
    "You can retrieve the MRO of a class using the following methods:\n",
    "\n",
    "ClassName.__mro__: This returns a tuple of classes in the MRO.\n",
    "ClassName.mro(): This method returns a list of classes in the order they will be checked for methods.\n",
    "help(ClassName): This also displays the MRO as part of the documentation for the class."
   ]
  },
  {
   "cell_type": "code",
   "execution_count": 231,
   "id": "06e91a73-ba66-49a9-9748-e9b4fb1b3864",
   "metadata": {},
   "outputs": [],
   "source": [
    "### Retrieve MRO programmatically\n",
    "\n",
    "class A:\n",
    "    def process(self):\n",
    "        print(\"A process\")\n",
    "\n",
    "class B(A):\n",
    "    def process(self):\n",
    "        print(\"B process\")\n",
    "\n",
    "class C(A):\n",
    "    def process(self):\n",
    "        print(\"C process\")\n",
    "\n",
    "class D(B, C):\n",
    "    pass                                                 # D class inherits from both B and C, which inherit from A\n",
    "\n"
   ]
  },
  {
   "cell_type": "code",
   "execution_count": 233,
   "id": "c25566c5-6ae8-41b9-ba2c-153e1ace58c2",
   "metadata": {},
   "outputs": [
    {
     "name": "stdout",
     "output_type": "stream",
     "text": [
      "(<class '__main__.D'>, <class '__main__.B'>, <class '__main__.C'>, <class '__main__.A'>, <class 'object'>)\n"
     ]
    }
   ],
   "source": [
    "print(D.__mro__)                                        # Outputs of MRO show as a tuple"
   ]
  },
  {
   "cell_type": "code",
   "execution_count": 235,
   "id": "062631f7-1067-412a-86c2-ecaea34b2280",
   "metadata": {},
   "outputs": [
    {
     "name": "stdout",
     "output_type": "stream",
     "text": [
      "[<class '__main__.D'>, <class '__main__.B'>, <class '__main__.C'>, <class '__main__.A'>, <class 'object'>]\n"
     ]
    }
   ],
   "source": [
    "print(D.mro())                                          # Outputs of MRO show as a list."
   ]
  },
  {
   "cell_type": "code",
   "execution_count": 237,
   "id": "77a2a9c1-11b0-41c0-b203-1384a50423ad",
   "metadata": {},
   "outputs": [
    {
     "name": "stdout",
     "output_type": "stream",
     "text": [
      "Help on class D in module __main__:\n",
      "\n",
      "class D(B, C)\n",
      " |  Method resolution order:\n",
      " |      D\n",
      " |      B\n",
      " |      C\n",
      " |      A\n",
      " |      builtins.object\n",
      " |\n",
      " |  Methods inherited from B:\n",
      " |\n",
      " |  process(self)\n",
      " |\n",
      " |  ----------------------------------------------------------------------\n",
      " |  Data descriptors inherited from A:\n",
      " |\n",
      " |  __dict__\n",
      " |      dictionary for instance variables\n",
      " |\n",
      " |  __weakref__\n",
      " |      list of weak references to the object\n",
      "\n"
     ]
    }
   ],
   "source": [
    "help(D)                                                  # Outputs of this is detailed info, including MRO."
   ]
  },
  {
   "cell_type": "markdown",
   "id": "578ef2d4-68a8-460d-b577-7041fb6d3da0",
   "metadata": {},
   "source": [
    "Question (8) Create an abstract base class 'Shape' with an abstract method 'area()'. Then create two subclasses \r",
    "'`Circl'` and'`Rectangl'` that implement the'`are()'` metho.."
   ]
  },
  {
   "cell_type": "markdown",
   "id": "68c52f12-e36b-4c9c-b01b-14575d6f43b2",
   "metadata": {},
   "source": [
    "Answer_An abstract method is a method that is declared in a base class but not defined. Abstract methods are used to establish a blueprint or interface for other classes to follow. They are placeholders that subclasses that inherit from the base class must override."
   ]
  },
  {
   "cell_type": "code",
   "execution_count": 264,
   "id": "a7f123c3-e51a-421f-b0ec-83365f45f12b",
   "metadata": {},
   "outputs": [],
   "source": [
    "# Subclass for Circle\n",
    "class Circle:\n",
    "    def __init__(self, radius):\n",
    "        self.__radius = radius\n",
    "        \n",
    "    @property\n",
    "    def radius(self):\n",
    "        return self.__radius\n",
    "    @radius.setter\n",
    "    def radius(self, value):\n",
    "        if value <= 0:\n",
    "            raise ValueError(\"Radius is not positive\")\n",
    "        self.__radius = value\n",
    "    def area(self):\n",
    "        return 3.14*self.__radius*self.__radius"
   ]
  },
  {
   "cell_type": "code",
   "execution_count": 266,
   "id": "0e4f5db0-3ec5-4feb-9489-b3d02d949f2e",
   "metadata": {},
   "outputs": [],
   "source": [
    "c = Circle(5)"
   ]
  },
  {
   "cell_type": "code",
   "execution_count": 268,
   "id": "91f285ea-9b40-4e45-864e-4885c2b2a271",
   "metadata": {},
   "outputs": [
    {
     "data": {
      "text/plain": [
       "5"
      ]
     },
     "execution_count": 268,
     "metadata": {},
     "output_type": "execute_result"
    }
   ],
   "source": [
    "c.radius"
   ]
  },
  {
   "cell_type": "code",
   "execution_count": 270,
   "id": "f5cf3b9a-75e3-4126-956e-0c593266d969",
   "metadata": {},
   "outputs": [
    {
     "data": {
      "text/plain": [
       "78.5"
      ]
     },
     "execution_count": 270,
     "metadata": {},
     "output_type": "execute_result"
    }
   ],
   "source": [
    "c.area()"
   ]
  },
  {
   "cell_type": "code",
   "execution_count": 272,
   "id": "5110066d-af86-409b-abe4-ca559b2d4635",
   "metadata": {},
   "outputs": [],
   "source": [
    "# Subclass for Rectangle\n",
    "class Rectangle(Shape):\n",
    "    def __init__(self, width, height):\n",
    "        self.width = width\n",
    "        self.height = height\n",
    "    \n",
    "    def area(self):\n",
    "        return self.width * self.height\n"
   ]
  },
  {
   "cell_type": "code",
   "execution_count": 276,
   "id": "12b0171f-6042-46ea-a139-60bad269378d",
   "metadata": {},
   "outputs": [
    {
     "name": "stdout",
     "output_type": "stream",
     "text": [
      "Rectangle area: 40\n"
     ]
    }
   ],
   "source": [
    "rectangle = Rectangle(5, 8)\n",
    "print(f\"Rectangle area: {rectangle.area()}\")"
   ]
  },
  {
   "cell_type": "markdown",
   "id": "09412aec-ba22-45da-bf5a-cf08d237e8d6",
   "metadata": {},
   "source": [
    "Question (9) Demonstrate polymorphism by creating a function that can work with different shape objects to calculate \r\n",
    "and print their areas."
   ]
  },
  {
   "cell_type": "code",
   "execution_count": null,
   "id": "523e99ac-19ee-42b9-ae77-862dd9df6865",
   "metadata": {},
   "outputs": [],
   "source": [
    "Answer_ >> Polymorphism is a programming concept in Python that allows the same function name to be used for different types. \n",
    "     >> The word \"polymorphism\" comes from the Greek words poly (many) and morphs (forms).\n",
    "     >> Some examples of polymorphism in Python include: \n",
    "        >> Method overloading : A child class can have methods with the same name as a parent class method.For example, if there are classes for cars, \n",
    "                                boats, and planes, all with a method called move(), then the same method can be executed for all three classes. \n",
    "        >> Operator overloading : The + operator can be overloaded using the __add__ method.The decision of which method to call is made during the \n",
    "                                  compilation phase based on the operator used. \n",
    "        >> Inbuilt polymorphic functions : The len() function can be used for both list and string length."
   ]
  },
  {
   "cell_type": "code",
   "execution_count": 73,
   "id": "f2c3a516-5fe1-4e53-8aca-bc8c0b2a2486",
   "metadata": {},
   "outputs": [],
   "source": [
    "### Define three different shape classes (Circle, Rectangle, and Triangle) and implement a common method area() to calculate the area for each shape.\n",
    "\n",
    "import math                                           \n",
    "                                                               ## A math is built-in library that provides mathematical functions and constants\n",
    "class Shape:\n",
    "    def area(self):\n",
    "        pass\n",
    "\n",
    "# Circle class\n",
    "\n",
    "class Circle(Shape):\n",
    "    def __init__(self, radius):\n",
    "        self.radius = radius\n",
    "\n",
    "    def area(self):\n",
    "        return math.pi * self.radius ** 2"
   ]
  },
  {
   "cell_type": "code",
   "execution_count": 75,
   "id": "14facdaf-bc2c-4d90-9f37-53ce69f5529c",
   "metadata": {},
   "outputs": [],
   "source": [
    "def print_area(shape):\n",
    "    print(f\"The area is: {shape.area()}\")"
   ]
  },
  {
   "cell_type": "code",
   "execution_count": 77,
   "id": "08ae96e8-d16e-467e-a9c3-3f127b11e8a3",
   "metadata": {},
   "outputs": [],
   "source": [
    "circle = Circle(radius=10)"
   ]
  },
  {
   "cell_type": "code",
   "execution_count": 79,
   "id": "cd047ebc-0808-40c7-adc3-2332ad53b943",
   "metadata": {},
   "outputs": [
    {
     "name": "stdout",
     "output_type": "stream",
     "text": [
      "The area is: 314.1592653589793\n"
     ]
    }
   ],
   "source": [
    "print_area(circle) "
   ]
  },
  {
   "cell_type": "code",
   "execution_count": 81,
   "id": "abd9a536-4b76-4523-8a9a-2d8e8ea79104",
   "metadata": {},
   "outputs": [],
   "source": [
    "# Rectangle class\n",
    "class Rectangle(Shape):\n",
    "    def __init__(self, width, height):\n",
    "        self.width = width\n",
    "        self.height = height\n",
    "\n",
    "    def area(self):\n",
    "        return self.width * self.height\n"
   ]
  },
  {
   "cell_type": "code",
   "execution_count": 83,
   "id": "e3384154-9651-4a90-8365-36fe24b8cdf1",
   "metadata": {},
   "outputs": [],
   "source": [
    "rectangle = Rectangle(width=6, height=8)"
   ]
  },
  {
   "cell_type": "code",
   "execution_count": 85,
   "id": "947476ce-3f9d-4ae1-a793-2bdaee432131",
   "metadata": {},
   "outputs": [
    {
     "name": "stdout",
     "output_type": "stream",
     "text": [
      "The area is: 48\n"
     ]
    }
   ],
   "source": [
    "print_area(rectangle)"
   ]
  },
  {
   "cell_type": "code",
   "execution_count": 87,
   "id": "1e9587f6-2064-461a-869d-1287fe23cdfe",
   "metadata": {},
   "outputs": [],
   "source": [
    "# Triangle class\n",
    "class Triangle(Shape):\n",
    "    def __init__(self, base, height):\n",
    "        self.base = base\n",
    "        self.height = height\n",
    "\n",
    "    def area(self):\n",
    "        return 0.5 * self.base * self.height\n"
   ]
  },
  {
   "cell_type": "code",
   "execution_count": 89,
   "id": "b1003853-e31f-4dc8-b347-35ef921e7b54",
   "metadata": {},
   "outputs": [],
   "source": [
    "triangle = Triangle(base=5, height=9)"
   ]
  },
  {
   "cell_type": "code",
   "execution_count": 91,
   "id": "2bfb6b56-3bc3-42f0-b298-00ffd71e8c19",
   "metadata": {},
   "outputs": [
    {
     "name": "stdout",
     "output_type": "stream",
     "text": [
      "The area is: 22.5\n"
     ]
    }
   ],
   "source": [
    "print_area(triangle)"
   ]
  },
  {
   "cell_type": "markdown",
   "id": "f7870ea1-9dbc-43e8-97dc-9149b9aa9978",
   "metadata": {},
   "source": [
    "Question (10) Implement encapsulation in a 'BankAccount' class with private attributes for 'balance' and '`account_numbe'`. Include methods for deposit, withdrawal, and balance inquiry."
   ]
  },
  {
   "cell_type": "markdown",
   "id": "61873385-7885-4f6e-bbd2-ebc2186d8338",
   "metadata": {},
   "source": [
    "Answer_ Encapsulation is a fundamental principle of object-oriented programming (OOP) that involves bundling data and methods into a class.It's a way to protect classes from accidental changes or deletions, and to promote code reusability and maintainability."
   ]
  },
  {
   "cell_type": "code",
   "execution_count": 165,
   "id": "36291233-421d-4830-bb46-e4f3da68c18a",
   "metadata": {},
   "outputs": [],
   "source": [
    "class BankAccount:                                                              # Either you deposit,withdraw and balance inquiry\n",
    "    def __init__(self, account_number, initial_balance=0):\n",
    "        self.__account_number = account_number                                  #(__)used to private attributes\n",
    "        self.__balance = initial_balance                                        # Private attributes\n",
    "                                                                                       \n",
    "    def deposit(self, amount):                                                  # Method to deposit money\n",
    "        if amount > 0:\n",
    "            self.__balance += amount\n",
    "            print(f\"Deposited {amount}. New balance: {self.__balance}\")\n",
    "        else:\n",
    "            print(\"Deposit amount must be positive.\")\n",
    "    \n",
    "                                                                                        \n",
    "    def withdraw(self, amount):                                                         # Method to withdraw money  \n",
    "        if 0 < amount <= self.__balance:\n",
    "            self.__balance -= amount\n",
    "            print(f\"Withdrew {amount}. New balance: {self.__balance}\")\n",
    "        else:\n",
    "            print(\"Insufficient balance\")\n",
    "    \n",
    "                                                                                        # Method to check balance\n",
    "    def get_balance(self):\n",
    "        return self.__balance\n",
    "\n",
    "                                                                                        # Method to get account number\n",
    "    def get_account_number(self):\n",
    "        return self.__account_number"
   ]
  },
  {
   "cell_type": "code",
   "execution_count": 167,
   "id": "fd5e0649-1f5b-4f63-9f2a-7c98da98a226",
   "metadata": {},
   "outputs": [],
   "source": [
    "account = BankAccount(account_number=\"9786545321\", initial_balance=1000)"
   ]
  },
  {
   "cell_type": "code",
   "execution_count": 169,
   "id": "f7606b9e-1594-4e8b-818c-7b3006ce3cca",
   "metadata": {},
   "outputs": [
    {
     "name": "stdout",
     "output_type": "stream",
     "text": [
      "Deposited 1000. New balance: 2000\n"
     ]
    }
   ],
   "source": [
    "account.deposit(1000)"
   ]
  },
  {
   "cell_type": "code",
   "execution_count": 171,
   "id": "f7642b57-d646-44ad-ba39-ac734d64a928",
   "metadata": {},
   "outputs": [
    {
     "name": "stdout",
     "output_type": "stream",
     "text": [
      "Insufficient balance\n"
     ]
    }
   ],
   "source": [
    "account.withdraw(2500)"
   ]
  },
  {
   "cell_type": "code",
   "execution_count": 173,
   "id": "871160f8-5143-4263-9e53-6a93a70d864b",
   "metadata": {},
   "outputs": [
    {
     "name": "stdout",
     "output_type": "stream",
     "text": [
      "Withdrew 500. New balance: 1500\n"
     ]
    }
   ],
   "source": [
    "account.withdraw(500)"
   ]
  },
  {
   "cell_type": "code",
   "execution_count": 175,
   "id": "91007af5-18cd-4b11-b4d8-bf74f2581471",
   "metadata": {},
   "outputs": [
    {
     "name": "stdout",
     "output_type": "stream",
     "text": [
      "Current balance: 1500\n"
     ]
    }
   ],
   "source": [
    "print(f\"Current balance: {account.get_balance()}\")"
   ]
  },
  {
   "cell_type": "markdown",
   "id": "cdcb5b46-3c97-4de1-ad11-594e8f035dcf",
   "metadata": {},
   "source": [
    "Question (11) Write a class that overrides the `__str__` and `__add__` magic methods. What will these methods allow \r\n",
    "you to do?"
   ]
  },
  {
   "cell_type": "markdown",
   "id": "2078ec24-37f4-4a6b-a7cb-930e5841c880",
   "metadata": {},
   "source": [
    "Answer_Magic methods are special methods in python that have double underscores (dunder) on both sides of the method name.Magic methods are predominantly used for operator overloading."
   ]
  },
  {
   "cell_type": "code",
   "execution_count": 185,
   "id": "8baa036c-6e61-4d74-8d48-72c6576249e9",
   "metadata": {},
   "outputs": [
    {
     "data": {
      "text/plain": [
       "'pwskills'"
      ]
     },
     "execution_count": 185,
     "metadata": {},
     "output_type": "execute_result"
    }
   ],
   "source": [
    "###Magic methods is also called Dunder/special methods,the methods defined by built-in classess in Python.\n",
    "###classes define these type of methods for creating custom objects >> for init it means data for every object.\n",
    "\n",
    "a = \"pw\"\n",
    "b = \"skills\"\n",
    "a+b"
   ]
  },
  {
   "cell_type": "code",
   "execution_count": 187,
   "id": "4033aa7a-ea38-4c4c-ae86-a020201283ec",
   "metadata": {},
   "outputs": [
    {
     "data": {
      "text/plain": [
       "'pwskills'"
      ]
     },
     "execution_count": 187,
     "metadata": {},
     "output_type": "execute_result"
    }
   ],
   "source": [
    "a.__add__(b)                           #A dunder method/special/magic method associated with strings.\n",
    "                                    #__add__ teaches Python how to perform addition with our custom objects."
   ]
  },
  {
   "cell_type": "code",
   "execution_count": 199,
   "id": "2dfbc50a-488a-4049-951c-a14f0668e59a",
   "metadata": {},
   "outputs": [],
   "source": [
    "class Point:\n",
    "    def __init__(self, x, y):\n",
    "        self.x = x\n",
    "        self.y = y\n",
    "    def __add__(self, other):\n",
    "        return Point(self.x + other.x,  self.y + other.y)"
   ]
  },
  {
   "cell_type": "code",
   "execution_count": 201,
   "id": "dcbc70bc-1b35-4119-8476-e396f1377072",
   "metadata": {},
   "outputs": [
    {
     "name": "stdout",
     "output_type": "stream",
     "text": [
      "2 4\n"
     ]
    }
   ],
   "source": [
    "p1 = Point(1, 2)\n",
    "p2 = Point(1, 2)\n",
    "p3 = p1+p2 #when you are using + operator with point Objects, python internally calls __add__\n",
    "print(p3.x, p3.y)"
   ]
  },
  {
   "cell_type": "code",
   "execution_count": 189,
   "id": "46032a48-afc4-4a4a-aa1c-ee82cbf0348e",
   "metadata": {},
   "outputs": [
    {
     "data": {
      "text/plain": [
       "['__add__',\n",
       " '__class__',\n",
       " '__contains__',\n",
       " '__delattr__',\n",
       " '__dir__',\n",
       " '__doc__',\n",
       " '__eq__',\n",
       " '__format__',\n",
       " '__ge__',\n",
       " '__getattribute__',\n",
       " '__getitem__',\n",
       " '__getnewargs__',\n",
       " '__getstate__',\n",
       " '__gt__',\n",
       " '__hash__',\n",
       " '__init__',\n",
       " '__init_subclass__',\n",
       " '__iter__',\n",
       " '__le__',\n",
       " '__len__',\n",
       " '__lt__',\n",
       " '__mod__',\n",
       " '__mul__',\n",
       " '__ne__',\n",
       " '__new__',\n",
       " '__reduce__',\n",
       " '__reduce_ex__',\n",
       " '__repr__',\n",
       " '__rmod__',\n",
       " '__rmul__',\n",
       " '__setattr__',\n",
       " '__sizeof__',\n",
       " '__str__',\n",
       " '__subclasshook__',\n",
       " 'capitalize',\n",
       " 'casefold',\n",
       " 'center',\n",
       " 'count',\n",
       " 'encode',\n",
       " 'endswith',\n",
       " 'expandtabs',\n",
       " 'find',\n",
       " 'format',\n",
       " 'format_map',\n",
       " 'index',\n",
       " 'isalnum',\n",
       " 'isalpha',\n",
       " 'isascii',\n",
       " 'isdecimal',\n",
       " 'isdigit',\n",
       " 'isidentifier',\n",
       " 'islower',\n",
       " 'isnumeric',\n",
       " 'isprintable',\n",
       " 'isspace',\n",
       " 'istitle',\n",
       " 'isupper',\n",
       " 'join',\n",
       " 'ljust',\n",
       " 'lower',\n",
       " 'lstrip',\n",
       " 'maketrans',\n",
       " 'partition',\n",
       " 'removeprefix',\n",
       " 'removesuffix',\n",
       " 'replace',\n",
       " 'rfind',\n",
       " 'rindex',\n",
       " 'rjust',\n",
       " 'rpartition',\n",
       " 'rsplit',\n",
       " 'rstrip',\n",
       " 'split',\n",
       " 'splitlines',\n",
       " 'startswith',\n",
       " 'strip',\n",
       " 'swapcase',\n",
       " 'title',\n",
       " 'translate',\n",
       " 'upper',\n",
       " 'zfill']"
      ]
     },
     "execution_count": 189,
     "metadata": {},
     "output_type": "execute_result"
    }
   ],
   "source": [
    "#all dunder methods associated with strings\n",
    "dir(str)\n"
   ]
  },
  {
   "cell_type": "code",
   "execution_count": 211,
   "id": "ef9a263d-205a-4ae4-a318-a0d9946611e7",
   "metadata": {},
   "outputs": [],
   "source": [
    "###The __str__() method returns a human-readable, or informal, string representation of an object.\n",
    "###Allows you to control how the object is represented as a string.This is useful for making your objects more readable in debugging or logging.\n",
    "\n",
    "class Student:\n",
    "    def __init__(self):\n",
    "        self.phone = 9786574326\n",
    "    def __str__(self):                                    #__str__  will return a string representation of object\n",
    "        return \"This method overloads the print statement of object\"\n",
    "        "
   ]
  },
  {
   "cell_type": "code",
   "execution_count": 213,
   "id": "cd56a5b8-33e1-42e7-9287-8a5b35252317",
   "metadata": {},
   "outputs": [
    {
     "data": {
      "text/plain": [
       "<__main__.Student at 0x1fdafee1490>"
      ]
     },
     "execution_count": 213,
     "metadata": {},
     "output_type": "execute_result"
    }
   ],
   "source": [
    "Student()"
   ]
  },
  {
   "cell_type": "code",
   "execution_count": 215,
   "id": "c27bdd75-1dfe-4de0-9632-1857bd3b7bd4",
   "metadata": {},
   "outputs": [
    {
     "name": "stdout",
     "output_type": "stream",
     "text": [
      "This method overloads the print statement of object\n"
     ]
    }
   ],
   "source": [
    "print(Student())"
   ]
  },
  {
   "cell_type": "markdown",
   "id": "13329ad9-64a5-43c5-a2e7-35d84d10954a",
   "metadata": {},
   "source": [
    "Question (12) Create a decorator that measures and prints the execution time of a function."
   ]
  },
  {
   "cell_type": "markdown",
   "id": "073fd649-2db5-4ca1-aa21-142c1a441ab2",
   "metadata": {},
   "source": [
    "Answer_A decorator is a Python design pattern that allows a user to add functionality to an existing object without changing its structure. Decorators are often used to modify the behavior of functions, classes, or methods"
   ]
  },
  {
   "cell_type": "code",
   "execution_count": 262,
   "id": "7d34fa49-92ec-4db3-8ebd-ed3b89afd87d",
   "metadata": {},
   "outputs": [],
   "source": [
    "### Decorators >> Allows to modify or extend the behaviour or functions/class without directly modifying their  original code."
   ]
  },
  {
   "cell_type": "code",
   "execution_count": 278,
   "id": "87180dde-3cb0-4fa3-894c-0af50dad1aaf",
   "metadata": {},
   "outputs": [],
   "source": [
    "import time\n",
    "def timer_decorator(func):\n",
    "    def timer():\n",
    "        start = time.time()\n",
    "        func()\n",
    "        end = time.time()\n",
    "        print(\"The time foe executing the code\",end-start)\n",
    "    return timer"
   ]
  },
  {
   "cell_type": "code",
   "execution_count": 272,
   "id": "3ace00ef-188d-4473-81bc-810401b2e99a",
   "metadata": {},
   "outputs": [],
   "source": [
    "@timer_decorator\n",
    "def func_test():\n",
    "    print(100*200)"
   ]
  },
  {
   "cell_type": "code",
   "execution_count": 274,
   "id": "aa5ce1d2-803a-418c-95e7-b9cbaba88eae",
   "metadata": {},
   "outputs": [
    {
     "name": "stdout",
     "output_type": "stream",
     "text": [
      "20000\n",
      "The time foe executing the code 0.0010025501251220703\n"
     ]
    }
   ],
   "source": [
    "func_test()"
   ]
  },
  {
   "cell_type": "code",
   "execution_count": 280,
   "id": "cb413127-f3ac-4b45-a59b-07cddb74f437",
   "metadata": {},
   "outputs": [
    {
     "name": "stdout",
     "output_type": "stream",
     "text": [
      "24200\n",
      "The time foe executing the code 0.0\n"
     ]
    }
   ],
   "source": [
    "@timer_decorator\n",
    "def func_test1():\n",
    "    print(1100 + 100* 231)\n",
    "    \n",
    "func_test1()"
   ]
  },
  {
   "cell_type": "markdown",
   "id": "b1f880a9-1fe3-48f8-8263-41d8874b8135",
   "metadata": {},
   "source": [
    "Question (13) Explain the concept of the Diamond Problem in multiple inheritance. How does Python resolve it?"
   ]
  },
  {
   "cell_type": "markdown",
   "id": "f754e518-8e53-48eb-9ad7-fdb4d849ff75",
   "metadata": {},
   "source": [
    "Answer_The diamond problem is a phenomenon that can occur in Python when a class inherits from multiple classes that share a common ancestor. This can lead to ambiguity when resolving methods and attributes."
   ]
  },
  {
   "cell_type": "code",
   "execution_count": 283,
   "id": "45138df4-15aa-4e51-8217-65e46689d56c",
   "metadata": {},
   "outputs": [],
   "source": [
    "#diamond problem>> it occurs when a class inherits from 2 or more than 2 class>> will lead to ambiguity in execution of methods\n",
    "#To remove diamond problem>> python uses method resolution order(MRO) algorithm called c3 linearization\n",
    "#meaning that the class that is inherited first in the derived class, that method will be called>>in this case method 1\n",
    "\n",
    "#diamond problem\n",
    "class A:\n",
    "    def method(self):\n",
    "        print(\"Method of class A\")\n",
    "class B(A):\n",
    "    def method(self):\n",
    "        print(\"Method of class B\")\n",
    "class C(A):\n",
    "    def method(self):\n",
    "        print(\"Method of class C\")\n",
    "class D(B, C):\n",
    "    pass"
   ]
  },
  {
   "cell_type": "code",
   "execution_count": 285,
   "id": "4bee5186-9d44-4fc3-a2f6-4fa311bcb3ab",
   "metadata": {},
   "outputs": [
    {
     "name": "stdout",
     "output_type": "stream",
     "text": [
      "Method of class B\n"
     ]
    }
   ],
   "source": [
    "d = D() \n",
    "d.method()"
   ]
  },
  {
   "cell_type": "code",
   "execution_count": 297,
   "id": "2ea80d59-ef60-4a00-929f-0502500b21e9",
   "metadata": {},
   "outputs": [
    {
     "name": "stdout",
     "output_type": "stream",
     "text": [
      "[<class '__main__.D'>, <class '__main__.B'>, <class '__main__.C'>, <class '__main__.A'>, <class 'object'>]\n"
     ]
    }
   ],
   "source": [
    "print(D.mro())"
   ]
  },
  {
   "cell_type": "markdown",
   "id": "96e52ea4-dc6c-4e7f-bd0c-fe1bb1b30e6f",
   "metadata": {},
   "source": [
    "Question (14) Write a class method that keeps track of the number of instances created from a class."
   ]
  },
  {
   "cell_type": "code",
   "execution_count": null,
   "id": "c999478d-3d92-48d0-b78c-9dd619ff0faa",
   "metadata": {},
   "outputs": [],
   "source": [
    "class InstanceCounter:\n",
    "    # Class variable to keep track of the number of instances\n",
    "    instance_count = 0\n",
    "    \n",
    "    def __init__(self):\n",
    "        # Increment the count whenever a new instance is created\n",
    "        InstanceCounter.instance_count += 1\n",
    "    \n",
    "    @classmethod\n",
    "    def get_instance_count(cls):\n",
    "        # Class method to return the number of instances\n",
    "        return cls.instance_count\n"
   ]
  },
  {
   "cell_type": "code",
   "execution_count": 335,
   "id": "1c7f84f5-e658-497b-b86b-0a1733a1e4e3",
   "metadata": {},
   "outputs": [],
   "source": [
    "#class method can modify class state applicable to all the instances of the class\n",
    "class Number:\n",
    "    \n",
    "    total_number = 0                                           #class variable\n",
    "    def __init__(self, num):                                   #instance method\n",
    "        self.num = num                                         #instance variable\n",
    "        Number.total_number = Number.total_number+1            #total_number is the class variable associated with all the instances\n",
    "        \n",
    "    @classmethod\n",
    "    def get_total_number(cls):\n",
    "        return cls.total_number"
   ]
  },
  {
   "cell_type": "code",
   "execution_count": 337,
   "id": "5bc501c2-c50b-4384-a4c4-2a214fd72bd9",
   "metadata": {},
   "outputs": [
    {
     "data": {
      "text/plain": [
       "0"
      ]
     },
     "execution_count": 337,
     "metadata": {},
     "output_type": "execute_result"
    }
   ],
   "source": [
    "Number.total_number"
   ]
  },
  {
   "cell_type": "code",
   "execution_count": 339,
   "id": "61155940-a099-4d29-917f-66fda13635a5",
   "metadata": {},
   "outputs": [],
   "source": [
    "num1 =Number(1)\n",
    "num2 = Number(2)"
   ]
  },
  {
   "cell_type": "code",
   "execution_count": 341,
   "id": "94228565-9bc0-4aaf-8eb6-6d3db06e548c",
   "metadata": {},
   "outputs": [
    {
     "data": {
      "text/plain": [
       "<__main__.Number at 0x1fdafee6b10>"
      ]
     },
     "execution_count": 341,
     "metadata": {},
     "output_type": "execute_result"
    }
   ],
   "source": [
    "num1"
   ]
  },
  {
   "cell_type": "code",
   "execution_count": 343,
   "id": "ec3d3530-6486-46ab-af22-d1d1c7191348",
   "metadata": {},
   "outputs": [
    {
     "data": {
      "text/plain": [
       "<__main__.Number at 0x1fdafed8fb0>"
      ]
     },
     "execution_count": 343,
     "metadata": {},
     "output_type": "execute_result"
    }
   ],
   "source": [
    "num2"
   ]
  },
  {
   "cell_type": "code",
   "execution_count": 345,
   "id": "9b2651d5-c6bf-4a1f-95de-09797f865f16",
   "metadata": {},
   "outputs": [
    {
     "data": {
      "text/plain": [
       "2"
      ]
     },
     "execution_count": 345,
     "metadata": {},
     "output_type": "execute_result"
    }
   ],
   "source": [
    "Number.total_number"
   ]
  },
  {
   "cell_type": "markdown",
   "id": "6bfbd9d3-90ef-4f2a-abf9-1582f0623c37",
   "metadata": {},
   "source": [
    "Question (15) Implement a static method in a class that checks if a given year is a leap year."
   ]
  },
  {
   "cell_type": "markdown",
   "id": "b5717433-3c03-4186-a849-1ee0ffe510f7",
   "metadata": {},
   "source": [
    "Answer_Static method is a method that belongs to a class but is not bound to a class or instance.This means that a static method can be called without an object for that class."
   ]
  },
  {
   "cell_type": "code",
   "execution_count": 364,
   "id": "86ed1986-eb3e-4e7d-9cdd-0aed12bffea4",
   "metadata": {},
   "outputs": [],
   "source": [
    "#It behaves like a plain function that belongs to class.\n",
    "#it doesn't take either self or cls.\n",
    "\n",
    "class DateUtils:\n",
    "    @staticmethod                                                       # @static method is used\n",
    "    def is_leap_year(year):                                             # Return True if it's a leap year, otherwise False\n",
    "        if (year % 4 == 0 and year % 100 != 0) or (year % 400 == 0):    #works with parameter passed\n",
    "            return True\n",
    "        return False"
   ]
  },
  {
   "cell_type": "code",
   "execution_count": 354,
   "id": "7924876d-52bb-41ce-a12a-f7782dc5dffe",
   "metadata": {},
   "outputs": [
    {
     "name": "stdout",
     "output_type": "stream",
     "text": [
      "True\n"
     ]
    }
   ],
   "source": [
    "print(DateUtils.is_leap_year(2024))"
   ]
  },
  {
   "cell_type": "code",
   "execution_count": 356,
   "id": "5f123eb3-6571-4ec0-92e7-9dfb2713db39",
   "metadata": {},
   "outputs": [
    {
     "name": "stdout",
     "output_type": "stream",
     "text": [
      "False\n"
     ]
    }
   ],
   "source": [
    "print(DateUtils.is_leap_year(2023))"
   ]
  },
  {
   "cell_type": "code",
   "execution_count": 358,
   "id": "aabd1789-6165-402a-ad4e-1a2a5090f769",
   "metadata": {},
   "outputs": [
    {
     "name": "stdout",
     "output_type": "stream",
     "text": [
      "False\n"
     ]
    }
   ],
   "source": [
    "print(DateUtils.is_leap_year(2022))"
   ]
  },
  {
   "cell_type": "code",
   "execution_count": 360,
   "id": "7b61a813-59db-44f3-b48a-21f604fd071d",
   "metadata": {},
   "outputs": [
    {
     "name": "stdout",
     "output_type": "stream",
     "text": [
      "False\n"
     ]
    }
   ],
   "source": [
    "print(DateUtils.is_leap_year(2021))"
   ]
  },
  {
   "cell_type": "code",
   "execution_count": 362,
   "id": "65f85212-53f5-4aa0-ba04-7a7c055a4498",
   "metadata": {},
   "outputs": [
    {
     "name": "stdout",
     "output_type": "stream",
     "text": [
      "True\n"
     ]
    }
   ],
   "source": [
    "print(DateUtils.is_leap_year(2020))"
   ]
  }
 ],
 "metadata": {
  "kernelspec": {
   "display_name": "Python 3 (ipykernel)",
   "language": "python",
   "name": "python3"
  },
  "language_info": {
   "codemirror_mode": {
    "name": "ipython",
    "version": 3
   },
   "file_extension": ".py",
   "mimetype": "text/x-python",
   "name": "python",
   "nbconvert_exporter": "python",
   "pygments_lexer": "ipython3",
   "version": "3.12.4"
  }
 },
 "nbformat": 4,
 "nbformat_minor": 5
}
